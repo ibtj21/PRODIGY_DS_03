{
 "cells": [
  {
   "cell_type": "markdown",
   "metadata": {},
   "source": [
    "### Introduction to the Dataset\n",
    "\n",
    "The bank dataset used in this project originates from a **Portuguese bank** and contains information about a **marketing campaign** aimed at selling **term deposit** products to customers. Term deposits are a type of savings account with a fixed interest rate for a specified term, making them a safer and more stable financial investment. The goal of the campaign is to encourage both existing and potential customers to subscribe to these term deposits.\n",
    "\n",
    "This dataset consists of **11,163 rows** and **21 columns**, where each row represents a customer, and the columns contain various features about the customer and their interaction with the bank. The data was collected over a series of marketing campaigns. In this project, a **sample of 1,000 rows** will be used to build a predictive model that can forecast whether a customer will subscribe to a term deposit, based on their characteristics and prior interactions with the bank.\n",
    "\n",
    "### Overview of the Columns in the Dataset\n",
    "\n",
    "Below is a detailed description of the columns in the dataset:\n",
    "\n",
    "- **age**: The age of the customer. This is important because age may influence financial decision-making, risk tolerance, and interest in term deposits.\n",
    "\n",
    "- **job**: The type of job the customer holds (e.g., \"admin.\", \"blue-collar\", \"technician\", etc.). Job type could reflect the customer’s income level, job stability, and overall financial behavior, which may impact their likelihood of subscribing to a term deposit.\n",
    "\n",
    "- **marital**: The marital status of the customer (e.g., \"married\", \"single\", \"divorced\"). Marital status can influence financial decisions, as people with families may have different savings goals compared to singles.\n",
    "\n",
    "- **education**: The level of education the customer has attained (e.g., \"primary\", \"secondary\", \"tertiary\"). A customer’s education level may correlate with their financial knowledge, which could affect their interest in financial products like term deposits.\n",
    "\n",
    "- **balance**: The average yearly balance in euros. A higher balance could indicate a wealthier or more financially stable customer who may be more likely to invest in a term deposit.\n",
    "\n",
    "- **contact**: The type of communication used to reach the customer (e.g., \"cellular\", \"telephone\"). This column helps understand the methods the bank uses to contact the customer, as different contact types may be more or less effective in reaching customers.\n",
    "\n",
    "- **day**: The last contact day of the month. This indicates when the final contact attempt was made during the month, which might influence the customer's decision-making process based on timing.\n",
    "\n",
    "- **month**: The last contact month of the year. The month of contact could reveal seasonal trends that may influence a customer’s decision to invest in a term deposit.\n",
    "\n",
    "- **duration**: The duration of the last contact in seconds. Longer conversations may indicate higher engagement from the customer, which could increase the likelihood of a positive response.\n",
    "\n",
    "- **campaign**: The number of contacts made during the current campaign. A **campaign** refers to a series of marketing efforts designed to persuade customers to subscribe to a term deposit. Multiple contacts may indicate persistence and effort to convert the customer.\n",
    "\n",
    "- **pdays**: The number of days since the customer was last contacted. If the value is **-1**, it means the customer has never been contacted before. The recency of contact could affect the customer’s response.\n",
    "\n",
    "- **previous**: The number of contacts made during the previous marketing campaign. This column provides context about past interactions and helps assess how previous efforts may influence the current campaign.\n",
    "\n",
    "- **poutcome**: The outcome of the previous marketing campaign (e.g., \"failure\", \"success\", \"nonexistent\"). This column can help determine whether past success or failure influences future marketing efforts.\n",
    "\n",
    "- **deposit**: Whether the customer subscribed to a term deposit (\"yes\" or \"no\"). This is the **target variable** of the project, and the goal is to predict this column.\n",
    "\n",
    "- **default**: Whether the customer has a history of defaulting on credit or loan payments (\"yes\" or \"no\"). A history of default could influence the customer's financial stability and their willingness to invest in term deposits.\n",
    "\n",
    "- **housing**: Whether the customer has a housing loan (\"yes\" or \"no\"). A housing loan may impact the customer’s financial flexibility, which could make them less likely to subscribe to a term deposit.\n",
    "\n",
    "- **loan**: Whether the customer has a personal loan (\"yes\" or \"no\"). Personal loans can similarly affect a customer's ability to invest in a term deposit, depending on their current financial obligations.\n",
    "\n",
    "### Aim of the Project\n",
    "\n",
    "The primary aim of this project is to build a **predictive model** that can accurately predict whether a customer will subscribe to a term deposit, based on their demographic information, contact history, and engagement with previous marketing campaigns. By analyzing these customer features, the goal is to improve the bank's ability to target the right customers, ultimately leading to better conversion rates for their marketing efforts.\n",
    "\n",
    "In this project, a **Decision Tree Classifier** will be used to create the predictive model. The Decision Tree Classifier will help identify the most important factors that influence whether a customer subscribes to a term deposit, allowing the bank to optimize their marketing strategies.\n",
    "\n",
    "By applying this model to a sample of customer data, the project will evaluate the effectiveness of using customer characteristics to predict their likelihood of subscribing to a term deposit, improving the overall efficiency of the marketing campaigns.\n"
   ]
  }
 ],
 "metadata": {
  "kernelspec": {
   "display_name": "Python 3",
   "language": "python",
   "name": "python3"
  },
  "language_info": {
   "codemirror_mode": {
    "name": "ipython",
    "version": 3
   },
   "file_extension": ".py",
   "mimetype": "text/x-python",
   "name": "python",
   "nbconvert_exporter": "python",
   "pygments_lexer": "ipython3",
   "version": "3.12.7"
  }
 },
 "nbformat": 4,
 "nbformat_minor": 2
}
